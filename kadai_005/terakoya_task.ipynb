{
  "nbformat": 4,
  "nbformat_minor": 0,
  "metadata": {
    "colab": {
      "provenance": []
    },
    "kernelspec": {
      "name": "python3",
      "display_name": "Python 3"
    },
    "language_info": {
      "name": "python"
    }
  },
  "cells": [
    {
      "cell_type": "code",
      "source": [
        "top = 10\n",
        "bottom = 20\n",
        "height = 5\n",
        "trapezoid_area = (top + bottom) * height / 2\n",
        "print(f'上辺{top}cm、下辺{bottom}cm、高さ{height}cmの台形の面積は{trapezoid_area}cm²です。')"
      ],
      "metadata": {
        "colab": {
          "base_uri": "https://localhost:8080/"
        },
        "id": "lBCUXjcjVOap",
        "outputId": "daef01fb-b880-4cf6-d757-4707598ee6c3"
      },
      "execution_count": 3,
      "outputs": [
        {
          "output_type": "stream",
          "name": "stdout",
          "text": [
            "上辺10cm、下辺20cm、高さ5cmの台形の面積は75.0cm²です。\n"
          ]
        }
      ]
    }
  ]
}