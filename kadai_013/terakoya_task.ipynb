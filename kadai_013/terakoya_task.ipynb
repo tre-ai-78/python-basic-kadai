{
  "nbformat": 4,
  "nbformat_minor": 0,
  "metadata": {
    "colab": {
      "provenance": []
    },
    "kernelspec": {
      "name": "python3",
      "display_name": "Python 3"
    },
    "language_info": {
      "name": "python"
    }
  },
  "cells": [
    {
      "cell_type": "code",
      "execution_count": null,
      "metadata": {
        "colab": {
          "base_uri": "https://localhost:8080/"
        },
        "id": "NpHquqX_z7ES",
        "outputId": "e1ef6e1d-1a16-4363-81c9-c3e2d2a25022"
      },
      "outputs": [
        {
          "output_type": "stream",
          "name": "stdout",
          "text": [
            "税抜価格：¥110\n",
            "税込価格：¥121.00000000000001\n"
          ]
        }
      ],
      "source": [
        "def include_tax(price, tax):\n",
        "  return price * ( 1 + tax / 100 )\n",
        "\n",
        "price = 110\n",
        "tax = 10\n",
        "\n",
        "print(f'税抜価格：¥{price}')\n",
        "print(f'税込価格：¥{include_tax(price, tax)}')"
      ]
    }
  ]
}