{
  "nbformat": 4,
  "nbformat_minor": 0,
  "metadata": {
    "colab": {
      "provenance": []
    },
    "kernelspec": {
      "name": "python3",
      "display_name": "Python 3"
    },
    "language_info": {
      "name": "python"
    }
  },
  "cells": [
    {
      "cell_type": "code",
      "source": [
        "top = 10\n",
        "bottom = 20\n",
        "height = 5\n",
        "trapezoid_area = (top + bottom) * height / 2\n",
        "print(f'上辺{top}cm、下辺{bottom}cm、高さ{height}cmの台形の面積は {trapezoid_area}cm² です。')"
      ],
      "metadata": {
        "colab": {
          "base_uri": "https://localhost:8080/"
        },
        "id": "lBCUXjcjVOap",
        "outputId": "c84b89d1-717b-4aa2-e136-69747aa6e104"
      },
      "execution_count": 6,
      "outputs": [
        {
          "output_type": "stream",
          "name": "stdout",
          "text": [
            "上辺10cm、下辺20cm、高さ5cmの台形の面積は 75.0cm² です。\n"
          ]
        }
      ]
    }
  ]
}