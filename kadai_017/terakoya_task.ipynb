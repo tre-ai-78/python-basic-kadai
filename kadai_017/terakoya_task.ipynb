{
  "nbformat": 4,
  "nbformat_minor": 0,
  "metadata": {
    "colab": {
      "provenance": []
    },
    "kernelspec": {
      "name": "python3",
      "display_name": "Python 3"
    },
    "language_info": {
      "name": "python"
    }
  },
  "cells": [
    {
      "cell_type": "code",
      "source": [
        "class Human:\n",
        "  def __init__(self, name, age):\n",
        "    self.name = name\n",
        "    self.age = age\n",
        "\n",
        "  def check_adult(self):\n",
        "    if self.age < 20:\n",
        "      print(f'{self.name}さんは大人ではありません。')\n",
        "    else:\n",
        "      print(f'{self.name}さんは大人です。')\n",
        "\n",
        "human01 = Human('侍太郎', 36)\n",
        "human02 = Human('侍花子', 35)\n",
        "human03 = Human('侍次郎', 20)\n",
        "human04 = Human('侍小太郎', 10)\n",
        "human05 = Human('侍薫子', 7)\n",
        "\n",
        "humans = [human01, human02, human03, human04, human05]\n",
        "\n",
        "for human in humans:\n",
        "  human.check_adult()\n"
      ],
      "metadata": {
        "colab": {
          "base_uri": "https://localhost:8080/"
        },
        "id": "Zt9MOT9r2P-r",
        "outputId": "85748850-8ad7-40c6-df52-b469bf1208ae"
      },
      "execution_count": 3,
      "outputs": [
        {
          "output_type": "stream",
          "name": "stdout",
          "text": [
            "侍太郎さんは大人です。\n",
            "侍花子さんは大人です。\n",
            "侍次郎さんは大人です。\n",
            "侍小太郎さんは大人ではありません。\n",
            "侍薫子さんは大人ではありません。\n"
          ]
        }
      ]
    }
  ]
}